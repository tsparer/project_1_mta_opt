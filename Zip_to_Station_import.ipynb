{
 "cells": [
  {
   "cell_type": "code",
   "execution_count": 11,
   "metadata": {},
   "outputs": [
    {
     "name": "stdout",
     "output_type": "stream",
     "text": [
      "377 377\n",
      "            STATION    zip\n",
      "0             59 ST  11220\n",
      "1        5 AV/59 ST  10022\n",
      "2        57 ST-7 AV  10106\n",
      "3             49 ST  10020\n",
      "4    TIMES SQ-42 ST  10018\n",
      "5   34 ST-HERALD SQ  10019\n",
      "6             28 ST  10001\n",
      "7             23 ST  10011\n",
      "8    14 ST-UNION SQ  10003\n",
      "9          8 ST-NYU  10003\n",
      "10        PRINCE ST  10012\n",
      "11         CANAL ST  10013\n",
      "12        CITY HALL  10007\n",
      "13     CORTLANDT ST  10006\n",
      "14        RECTOR ST  10006\n",
      "15  WHITEHALL S-FRY  10004\n",
      "16   DELANCEY/ESSEX  10002\n",
      "17           BOWERY  10002\n",
      "18      CHAMBERS ST  10007\n",
      "19        FULTON ST  10038\n"
     ]
    }
   ],
   "source": [
    "import pandas as pd\n",
    "import pickle\n",
    "\n",
    "# Brandon wrote a cool function to match MTA data to zipcodes- it's on \n",
    "# his github.  However, there were still some mismatches in the function\n",
    "# output (maybe due to stations with similar names?).  So he cleaned\n",
    "# the resulting data by hand.  The list below is the cleaned list\n",
    "# copy pasted from his github: (https://github.com/ShadowBrandon/Metropolitan-Transportation-Authority-Analysis-/blob/master/CorrectedFullStationZipCode)\n",
    "\n",
    "station_zips = [('59 ST', '11220'), ('5 AV/59 ST', '10022'), ('57 ST-7 AV', '10106'), ('49 ST', '10020'), ('TIMES SQ-42 ST', '10018'), ('34 ST-HERALD SQ', '10019'), ('28 ST', '10001'), ('23 ST', '10011'), ('14 ST-UNION SQ', '10003'), ('8 ST-NYU', '10003'), ('PRINCE ST', '10012'), ('CANAL ST', '10013'), ('CITY HALL', '10007'), ('CORTLANDT ST', '10006'), ('RECTOR ST', '10006'), ('WHITEHALL S-FRY', '10004'), ('DELANCEY/ESSEX', '10002'), ('BOWERY', '10002'), ('CHAMBERS ST', '10007'), ('FULTON ST', '10038'), ('BROAD ST', '10005'), ('7 AV', '10019'), ('PARK PLACE', '10007'), ('BOTANIC GARDEN', '10458'), ('PROSPECT PARK', '11226'), ('PARKSIDE AV', '11226'), ('CHURCH AV', '11218'), ('BEVERLEY ROAD', '11226'), ('CORTELYOU RD', '11226'), ('NEWKIRK PLAZA', '11226'), ('AVENUE H', '11230'), ('AVENUE J', '11230'), ('AVENUE M', '11230'), ('KINGS HWY', '11229'), ('AVENUE U', '11229'), ('NECK RD', '11229'), ('SHEEPSHEAD BAY', '11235'), ('BRIGHTON BEACH', '11235'), ('OCEAN PKWY', '11235'), ('BOROUGH HALL', '11201'), ('JAY ST-METROTEC', '11201'), ('DEKALB AV', '11217'), ('ATL AV-BARCLAY', '11217'), ('UNION ST', '11215'), ('4AV-9 ST', '11215'), ('PROSPECT AV', '11215'), ('25 ST', '11232'), ('36 ST', '10012'), ('45 ST', '11220'), ('53 ST', '10022'), ('BAY RIDGE AV', '11220'), ('77 ST', '10075'), ('86 ST', '10028'), ('BAY RIDGE-95 ST', '11209'), ('8 AV', '11220'), ('FT HAMILTON PKY', '11219'), ('NEW UTRECHT AV', '11219'), ('18 AV', '11204'), ('20 AV', '11204'), ('BAY PKWY', '11204'), ('9 AV', '11219'), ('50 ST', '10019'), ('55 ST', '11219'), ('71 ST', '11375'), ('79 ST', '10024'), ('25 AV', '11214'), ('BAY 50 ST', '11214'), ('CONEY IS-STILLW', '11224'), ('W 8 ST-AQUARIUM', '11224'), ('6 AV', '10019'), ('3 AV', '10003'), ('1 AV', '10040'), ('BEDFORD AV', '11211'), ('LORIMER ST', '11211'), ('GRAHAM AV', '11211'), ('GRAND ST', '10017'), ('MONTROSE AV', '11206'), ('MORGAN AV', '11237'), ('JEFFERSON ST', '11237'), ('MYRTLE-WYCKOFF', '11237'), ('HALSEY ST', '11207'), ('WILSON AV', '11207'), ('BUSHWICK AV', '11207'), ('ATLANTIC AV', '11207'), ('SUTTER AV', '11207'), ('LIVONIA AV', '11212'), ('NEW LOTS', '11414'), ('EAST 105 ST', '11236'), ('CANARSIE-ROCKAW', '11236'), ('HOWARD BCH JFK', '11414'), ('JFK JAMAICA CT1', '11435'), ('MARCY AV', '11211'), ('HEWES ST', '11211'), ('FLUSHING AV', '11206'), ('MYRTLE AV', '11237'), ('KOSCIUSZKO ST', '11221'), ('GATES AV', '11221'), ('CHAUNCEY ST', '11207'), ('ALABAMA AV', '11207'), ('VAN SICLEN AV', '11207'), ('CLEVELAND ST', '11208'), ('NORWOOD AV', '11208'), ('CRESCENT ST', '11208'), ('CYPRESS HILLS', '11208'), ('75 ST-ELDERTS', '11421'), ('85 ST-FOREST PK', '11421'), ('WOODHAVEN BLVD', '11373'), ('104 ST', '11417'), ('111 ST', '11418'), ('121 ST', '10314'), ('CENTRAL AV', '11221'), ('KNICKERBOCKER', '11237'), ('SENECA AVE', '11385'), ('FOREST AVE', '11385'), ('FRESH POND RD', '11385'), ('METROPOLITAN AV', '11379'), ('INWOOD-207 ST', '10034'), ('DYCKMAN ST', '10040'), ('190 ST', '10040'), ('181 ST', '10040'), ('175 ST', '10033'), ('168 ST', '10032'), ('155 ST', '10032'), ('145 ST', '10031'), ('135 ST', '10037'), ('125 ST', '10035'), ('116 ST', '10035'), ('103 ST', '10025'), ('96 ST', '10128'), ('81 ST-MUSEUM', '10024'), ('59 ST COLUMBUS', '10023'), ('42 ST-PORT AUTH', '10036'), ('34 ST-PENN STA', '10001'), ('14 ST', '10011'), ('W 4 ST-WASH SQ', '10012'), ('SPRING ST', '10013'), ('WORLD TRADE CTR', '10006'), ('HIGH ST', '11201'), ('HOYT-SCHER', '11201'), ('LAFAYETTE AV', '11217'), ('CLINTON-WASH AV', '11205'), ('FRANKLIN AV', '10013'), ('NOSTRAND AV', '11225'), ('KINGSTON-THROOP', '11216'), ('UTICA AV', '11213'), ('RALPH AV', '11233'), ('ROCKAWAY AV', '11233'), ('BROADWAY JCT', '11233'), ('LIBERTY AV', '11207'), ('VAN SICLEN AVE', '11207'), ('SHEPHERD AV', '11208'), ('EUCLID AV', '11208'), ('GRANT AV', '11208'), ('80 ST', '11416'), ('88 ST', '11417'), ('ROCKAWAY BLVD', '11233'), ('OZONE PK LEFFRT', '11419'), ('AQUEDUCT N.COND', '11417'), ('AQUEDUCT RACETR', '11417'), ('BROAD CHANNEL', '11693'), ('BEACH 90 ST', '11693'), ('BEACH 98 ST', '11694'), ('BEACH 105 ST', '11694'), ('ROCKAWAY PARK B', '11694'), ('BEACH 67 ST', '11692'), ('BEACH 60 ST', '11692'), ('BEACH 44 ST', '11691'), ('BEACH 36 ST', '11691'), ('BEACH 25 ST', '11691'), ('FAR ROCKAWAY', '11691'), ('161/YANKEE STAD', '10451'), ('167 ST', '10452'), ('170 ST', '10452'), ('174-175 STS', '10453'), ('TREMONT AV', '10453'), ('182-183 STS', '10457'), ('FORDHAM RD', '10458'), ('KINGSBRIDGE RD', '10458'), ('BEDFORD PK BLVD', '10468'), ('NORWOOD 205 ST', '10467'), ('5 AV/53 ST', '10022'), ('LEXINGTON AV/53', '10022'), ('COURT SQ-23 ST', '11101'), ('QUEENS PLAZA', '11101'), ('STEINWAY ST', '11103'), ('46 ST', '11104'), ('NORTHERN BLVD', '11358'), ('65 ST', '11377'), ('JKSN HT-ROOSVLT', '11354'), ('ELMHURST AV', '11372'), ('GRAND-NEWTOWN', '11373'), ('63 DR-REGO PARK', '11374'), ('67 AV', '11375'), ('FOREST HILLS 71', '11375'), ('75 AV', '11375'), ('KEW GARDENS', '11415'), ('BRIARWOOD', '11435'), ('SUTPHIN BLVD', '11435'), ('PARSONS BLVD', '11432'), ('169 ST', '11432'), ('JAMAICA 179 ST', '11432'), ('COURT SQ', '11101'), ('21 ST', '11101'), ('GREENPOINT AV', '11222'), ('NASSAU AV', '11222'), ('BROADWAY', '11106'), ('MYRTLE-WILLOUGH', '11206'), ('BEDFORD-NOSTRAN', '11205'), ('CLASSON AV', '11238'), ('47-50 STS ROCK', '10020'), ('42 ST-BRYANT PK', '10021'), (\"B'WAY-LAFAYETTE\", '10012'), ('2 AV', '10003'), ('EAST BROADWAY', '10002'), ('YORK ST', '11201'), ('BERGEN ST', '11201'), ('CARROLL ST', '11231'), ('SMITH-9 ST', '11231'), ('4 AV-9 ST', '11215'), ('15 ST-PROSPECT', '11215'), ('DITMAS AV', '11218'), ('AVENUE I', '11230'), ('AVENUE N', '11230'), ('AVENUE P', '11230'), ('AVENUE X', '11223'), ('NEPTUNE AV', '11224'), ('57 ST', '10106'), ('LEXINGTON AV/63', '10065'), ('ROOSEVELT ISLND', '10022'), ('21 ST-QNSBRIDGE', '11101'), ('JAMAICA VAN WK', '11418'), ('SUTPHIN-ARCHER', '11435'), ('JAMAICA CENTER', '11432'), ('72 ST-2 AVE', '10021'), ('86 ST-2 AVE', '10028'), ('96 ST-2 AVE', '10128'), ('ORCHARD BEACH', '10464'), ('NEWARK HW BMEBE', '000000'), ('HARRISON', '07029'), ('JOURNAL SQUARE', '07306'), ('GROVE STREET', '07302'), ('EXCHANGE PLACE', '07302'), ('PAVONIA/NEWPORT', '07310'), ('CITY / BUS', '10018'), ('CHRISTOPHER ST', '10014'), ('9TH STREET', '10011'), ('14TH STREET', '10011'), ('TWENTY THIRD ST', '10011'), ('THIRTY ST', '11102'), ('LACKAWANNA', '07030'), ('THIRTY THIRD ST', '10455'), ('NEWARK BM BW', '00000'), ('NEWARK C', '07114'), ('NEWARK HM HE', '10007'), ('PATH WTC 2', '10007'), ('PATH NEW WTC', '10007'), ('SOUTH FERRY', '10004'), ('WALL ST', '10038'), ('FRANKLIN ST', '10013'), ('HOUSTON ST', '10014'), ('18 ST', '10011'), ('66 ST-LINCOLN', '10023'), ('72 ST', '10021'), ('CATHEDRAL PKWY', '10025'), ('116 ST-COLUMBIA', '10027'), ('137 ST CITY COL', '10031'), ('157 ST', '10032'), ('191 ST', '10040'), ('207 ST', '10034'), ('215 ST', '10034'), ('MARBLE HILL-225', '10034'), ('231 ST', '10463'), ('238 ST', '10463'), ('V.CORTLANDT PK', '10471'), ('BOWLING GREEN', '10004'), ('BROOKLYN BRIDGE', '10013'), ('BLEECKER ST', '10012'), ('ASTOR PL', '10003'), ('33 ST', '10001'), ('GRD CNTRL-42 ST', '10017'), ('51 ST', '10022'), ('68ST-HUNTER CO', '10021'), ('110 ST', '10025'), ('138/GRAND CONC', '10451'), ('149/GRAND CONC', '10451'), ('MT EDEN AV', '10452'), ('176 ST', '10453'), ('BURNSIDE AV', '10453'), ('183 ST', '10453'), ('MOSHOLU PKWY', '10467'), ('WOODLAWN', '10466'), ('CENTRAL PK N110', '10017'), ('HARLEM 148 ST', '10039'), ('3 AV-149 ST', '10455'), ('JACKSON AV', '10455'), ('INTERVALE AV', '10459'), ('SIMPSON ST', '10459'), ('FREEMAN ST', '10459'), ('174 ST', '10460'), ('WEST FARMS SQ', '10460'), ('E 180 ST', '10460'), ('BRONX PARK EAST', '10462'), ('PELHAM PKWY', '10469'), ('ALLERTON AV', '10467'), ('BURKE AV', '10467'), ('GUN HILL RD', '10467'), ('219 ST', '10467'), ('225 ST', '10034'), ('233 ST', '10466'), ('NEREID AV', '10466'), ('WAKEFIELD/241', '10470'), ('3 AV 138 ST', '10454'), ('BROOK AV', '10454'), ('CYPRESS AV', '10454'), (\"E 143/ST MARY'S\", '10454'), ('E 149 ST', '10451'), ('LONGWOOD AV', '10455'), ('HUNTS POINT AV', '10474'), ('WHITLOCK AV', '10459'), ('ELDER AV', '10472'), ('MORISN AV/SNDVW', '10472'), ('ST LAWRENCE AV', '10472'), ('PARKCHESTER', '10472'), ('CASTLE HILL AV', '10462'), ('ZEREGA AV', '10462'), ('WESTCHESTER SQ', '10461'), ('MIDDLETOWN RD', '10461'), ('BUHRE AV', '10461'), ('PELHAM BAY PARK', '10461'), ('5 AVE', '10022'), ('VERNON-JACKSON', '11101'), ('HUNTERS PT AV', '10474'), ('QUEENSBORO PLZ', '11101'), ('39 AV', '11101'), ('36 AV', '11106'), ('30 AV', '11102'), ('ASTORIA BLVD', '11105'), ('ASTORIA DITMARS', '11105'), ('33 ST-RAWSON ST', '11101'), ('40 ST LOWERY ST', '11104'), ('46 ST BLISS ST', '11104'), ('52 ST', '11377'), ('61 ST WOODSIDE', '11377'), ('69 ST', '11377'), ('74 ST-BROADWAY', '11372'), ('82 ST-JACKSON H', '11373'), ('90 ST-ELMHURST', '11372'), ('JUNCTION BLVD', '11368'), ('103 ST-CORONA', '11368'), ('METS-WILLETS PT', '11368'), ('FLUSHING-MAIN', '11354'), ('34 ST-HUDSON YD', '10001'), ('CLARK ST', '11201'), ('HOYT ST', '11201'), ('NEVINS ST', '11217'), ('GRAND ARMY PLAZ', '11238'), ('EASTN PKWY-MUSM', '11238'), ('KINGSTON AV', '11213'), ('CROWN HTS-UTICA', '11213'), ('SUTTER AV-RUTLD', '11207'), ('SARATOGA AV', '11212'), ('JUNIUS ST', '11212'), ('PENNSYLVANIA AV', '11207'), ('NEW LOTS AV', '11207'), ('PRESIDENT ST', '11225'), ('STERLING ST', '11225'), ('WINTHROP ST', '11225'), ('BEVERLY RD', '11226'), ('NEWKIRK AV', '11226'), ('FLATBUSH AV-B.C', '11210'), ('MORRIS PARK', '10462'), ('BAYCHESTER AV', '10469'), ('EASTCHSTER/DYRE', '10466'), ('ST. GEORGE', '10301'), ('TOMPKINSVILLE', '10304'), ('RIT-MANHATTAN', '10022'), ('RIT-ROOSEVELT', '10022')] \n",
    "\n",
    "# a quick check to make sure the station names are unique\n",
    "stations_only = [station[0] for station in station_zips] \n",
    "zips_only = [station[1] for station in station_zips]\n",
    "reduce_stations = set(stations_only)\n",
    "print (len(stations_only), (len(reduce_stations)) )\n",
    "####\n",
    "\n",
    "station_zips_df = pd.DataFrame(station_zips)\n",
    "station_zips_df.rename(columns = {0:\"STATION\", 1:\"zip\"}, inplace = True)\n",
    "print(station_zips_df.head(20))\n",
    "\n",
    "with open(\"raw_stations_to_zip.pickle\", \"wb\") as file:\n",
    "    pickle.dump(station_zips_df, file)\n",
    "\n",
    "    \n",
    "\n",
    "# Note- I thin"
   ]
  },
  {
   "cell_type": "code",
   "execution_count": null,
   "metadata": {
    "collapsed": true
   },
   "outputs": [],
   "source": []
  }
 ],
 "metadata": {
  "kernelspec": {
   "display_name": "Python [default]",
   "language": "python",
   "name": "python3"
  },
  "language_info": {
   "codemirror_mode": {
    "name": "ipython",
    "version": 3
   },
   "file_extension": ".py",
   "mimetype": "text/x-python",
   "name": "python",
   "nbconvert_exporter": "python",
   "pygments_lexer": "ipython3",
   "version": "3.5.3"
  }
 },
 "nbformat": 4,
 "nbformat_minor": 2
}
