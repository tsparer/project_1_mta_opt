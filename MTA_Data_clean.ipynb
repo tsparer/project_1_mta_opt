{
 "cells": [
  {
   "cell_type": "code",
   "execution_count": null,
   "metadata": {
    "collapsed": true
   },
   "outputs": [],
   "source": [
    "# Output should be: time-stamped file, with duplicates and outliers \n",
    "# removed, and people/entries adjusted to not be cumulative.\n",
    "\n",
    "# get data\n",
    "\n",
    "# remove duplicates\n",
    "\n",
    "# add date_time column\n",
    "\n",
    "# re_set_abberrant intervals\n",
    "# add riders per interval\n",
    "\n"
   ]
  }
 ],
 "metadata": {
  "kernelspec": {
   "display_name": "Python [default]",
   "language": "python",
   "name": "python3"
  },
  "language_info": {
   "codemirror_mode": {
    "name": "ipython",
    "version": 3
   },
   "file_extension": ".py",
   "mimetype": "text/x-python",
   "name": "python",
   "nbconvert_exporter": "python",
   "pygments_lexer": "ipython3",
   "version": "3.5.3"
  }
 },
 "nbformat": 4,
 "nbformat_minor": 2
}
