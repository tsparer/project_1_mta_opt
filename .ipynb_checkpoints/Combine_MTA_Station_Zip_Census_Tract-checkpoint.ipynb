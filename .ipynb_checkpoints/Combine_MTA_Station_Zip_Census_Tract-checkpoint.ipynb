{
 "cells": [
  {
   "cell_type": "code",
   "execution_count": null,
   "metadata": {
    "collapsed": true
   },
   "outputs": [],
   "source": [
    "\n",
    "#open station_data\n",
    "\n",
    "#open station_to_zipcode\n",
    "\n",
    "# Open Zip to tract\n",
    "\n",
    "#openData2GoGeneral\n",
    "\n",
    "#Open Data2Go Women\n",
    "\n",
    "\n",
    "\n",
    "######################################################\n",
    "\n",
    "\n",
    "#Merge Station info with the station to to zipcode file\n",
    "\n",
    "# The operations below allow us to match the demographic data from\n",
    "# data2go (which is given per CENSUS TRACT) to the related ZIPCODES\n",
    "# and then combine the newly zipcode matched demographic info, with \n",
    "# the subway info, (which is originally organized ZIP_CODE)\n",
    "# \n",
    "\n",
    "\n",
    "# LeftMerge the data2go file (organized by census tract)\n",
    "# with the zip_to tract_file (discarding the zipcodes not \n",
    "# from NYC )  (With data2go on the left side)\n",
    "\n",
    "\n",
    "# Merge the original Station Data with the station to zip_code file\n",
    "\n",
    "\n",
    "# Merge the station data + zipcode file to the station to demos+zipcode\n",
    "# file .  (Left merge with the station data as the left most file\n",
    "# with zipcode as key)\n",
    "\n",
    "\n",
    "#########################################################\n"
   ]
  }
 ],
 "metadata": {
  "kernelspec": {
   "display_name": "Python [default]",
   "language": "python",
   "name": "python3"
  },
  "language_info": {
   "codemirror_mode": {
    "name": "ipython",
    "version": 3
   },
   "file_extension": ".py",
   "mimetype": "text/x-python",
   "name": "python",
   "nbconvert_exporter": "python",
   "pygments_lexer": "ipython3",
   "version": "3.5.3"
  }
 },
 "nbformat": 4,
 "nbformat_minor": 2
}
