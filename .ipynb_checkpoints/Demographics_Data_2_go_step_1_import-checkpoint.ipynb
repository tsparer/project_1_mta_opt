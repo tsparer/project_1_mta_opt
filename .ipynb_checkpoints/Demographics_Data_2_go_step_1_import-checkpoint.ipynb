{
 "cells": [
  {
   "cell_type": "code",
   "execution_count": 10,
   "metadata": {},
   "outputs": [
    {
     "name": "stdout",
     "output_type": "stream",
     "text": [
      "ran\n"
     ]
    }
   ],
   "source": [
    "import pandas as pd\n",
    "import numpy as np\n",
    "import pickle \n",
    "\n",
    "\n",
    "demographics_by_tract_csv =\"/Users/tim/Desktop/ds/class_projects/additional_data_excel/Data2go_NYC_tract_only.csv\"\n",
    "zip_to_tract_csv= \"/Users/tim/Desktop/ds/class_projects/additional_data_excel/TRACT_ZIP_correct\"\n",
    "\n",
    "\n",
    "Data_2_go = pd.read_csv(demographics_by_tract_csv)\n",
    "Data_2_go.rename(columns = {\"GEO_ID\": \"tract\"}, inplace = True)\n",
    "\n",
    "\n",
    "\n",
    "\n",
    "\n",
    "\n",
    "print(\"ran\")\n"
   ]
  },
  {
   "cell_type": "code",
   "execution_count": 11,
   "metadata": {},
   "outputs": [
    {
     "name": "stdout",
     "output_type": "stream",
     "text": [
      "         tract                               GEO_LABEL  GEO_DISPLAY_NAME  \\\n",
      "0  36005000100  Census Tract 1, Bronx County, New York               NaN   \n",
      "1  36005000200  Census Tract 2, Bronx County, New York               NaN   \n",
      "\n",
      "   Adult Stability (% of adults living in same house 1 year ago)  \\\n",
      "0                                          20.624303               \n",
      "1                                          94.655522               \n",
      "\n",
      "   Black (% of total population)  Black Population (#)  Females 15-24 (#)  \\\n",
      "0                      55.124555                  4647                236   \n",
      "1                      20.431796                  1041                380   \n",
      "\n",
      "   Females 25-34 (#)  Females 35-44 (#)  Females 45-54 (#)  \\\n",
      "0                194                164                107   \n",
      "1                378                307                346   \n",
      "\n",
      "                           ...                           \\\n",
      "0                          ...                            \n",
      "1                          ...                            \n",
      "\n",
      "   TANF and General Assistance (% of households in past 12 months)  \\\n",
      "0                                                NaN                 \n",
      "1                                           1.232777                 \n",
      "\n",
      "   Industry Category: Retail Trade (% of all employed)  \\\n",
      "0                                                NaN     \n",
      "1                                          24.026279     \n",
      "\n",
      "   Occupational Category: Sales & Office (% of all employed)  \\\n",
      "0                                                NaN           \n",
      "1                                          34.209291           \n",
      "\n",
      "   Self-employed (% of all employed)  \\\n",
      "0                                NaN   \n",
      "1                           3.472548   \n",
      "\n",
      "   Occupational Category: Service (% of all employed)  \\\n",
      "0                                                NaN    \n",
      "1                                          16.377288    \n",
      "\n",
      "   Industry Category: Transportation, Warehousing & Utilities (% of all employed)  \\\n",
      "0                                                NaN                                \n",
      "1                                           9.807602                                \n",
      "\n",
      "   Unemployed (% ages 16 and older)  Unpaid Family Worker (% of all employed)  \\\n",
      "0                          0.000000                                       NaN   \n",
      "1                          4.358472                                       0.0   \n",
      "\n",
      "   Industry Category: Wholesale Trade (% of all employed)  \\\n",
      "0                                                NaN        \n",
      "1                                           6.710465        \n",
      "\n",
      "   Employed Workers with Income Below Poverty Level (%)  \n",
      "0                                                NaN     \n",
      "1                                          10.652276     \n",
      "\n",
      "[2 rows x 171 columns]\n"
     ]
    },
    {
     "data": {
      "text/plain": [
       "(2166, 171)"
      ]
     },
     "execution_count": 11,
     "metadata": {},
     "output_type": "execute_result"
    }
   ],
   "source": [
    "print(Data_2_go.iloc[0:2])\n",
    "Data_2_go.shape\n",
    "\n",
    "                    "
   ]
  },
  {
   "cell_type": "code",
   "execution_count": 12,
   "metadata": {},
   "outputs": [
    {
     "name": "stdout",
     "output_type": "stream",
     "text": [
      "['tract' 'GEO_LABEL' 'GEO_DISPLAY_NAME'\n",
      " 'Adult Stability (% of adults living in same house 1 year ago)'\n",
      " 'Black (% of total population)' 'Black Population (#)' 'Females 15-24 (#)'\n",
      " 'Females 25-34 (#)' 'Females 35-44 (#)' 'Females 45-54 (#)'\n",
      " 'Females 5-14 (#)' 'Females 55-64 (#)' 'Females 65-74 (#)'\n",
      " 'Females 75-84 (#)' 'Females 85+ (#)' 'Females Under 5 (#)'\n",
      " 'Males 15-24 (#)' 'Males 25-34 (#)' 'Males 35-44 (#)' 'Males 45-54 (#)'\n",
      " 'Males 5-14 (#)' 'Males 55-64 (#)' 'Males 65-74 (#)' 'Males 75-84 (#)'\n",
      " 'Males 85+ (#)' 'Males Under 5 (#)' 'Total Population (#)'\n",
      " 'Speak Asian or Pacific Island Language at Home (%)'\n",
      " 'Asian or Pacific Islander (% of total population)'\n",
      " 'Asian or Pacific Islander: 2000 (% of total population)'\n",
      " 'Asian or Pacific Islander Population (total #)'\n",
      " 'Foreign-Born, Australia and New Zealand Subregion (% of all foreign-born)'\n",
      " 'Speak English Less Than \"Very Well\" (%)'\n",
      " 'Black (% of total population).1' 'Black: 2000 (% of total population)'\n",
      " 'Foreign-Born, Caribbean (% of all foreign-born)'\n",
      " 'Foreign-Born, Central America (% of all foreign-born)'\n",
      " 'Child Stability (% of children in same house 1 year ago)'\n",
      " 'Disabled (% of total population)' 'Divorced (% ages 15+)'\n",
      " 'Foreign-Born, Eastern Africa (% of all foreign-born)'\n",
      " 'Foreign-Born, Eastern Asia (% of all foreign-born)'\n",
      " 'Foreign-Born, Eastern Europe (% of all foreign-born)'\n",
      " 'Households with Children Under 18 (% of all households)'\n",
      " 'Family Without Children (% of households)'\n",
      " 'Foreign-Born, Fiji (% of all foreign-born)'\n",
      " 'Foreign-Born (% of total population)'\n",
      " 'Grandparents Responsible for Grandchildren (% living with grandparents)'\n",
      " 'Latino (% of total population)' 'Latino: 2000 (% of total population)'\n",
      " 'Latino Population (total #)' 'Living Alone (% of households)'\n",
      " 'Elderly Living Alone (% of households)'\n",
      " 'Married With Children (% of households)'\n",
      " 'Foreign-Born, Middle Africa (% of all foreign-born)'\n",
      " 'Overcrowding (% of units with more than one occupant per room)'\n",
      " 'Native American and Alaska Native (% of total population)'\n",
      " 'Native American and Alaska Native Population (total #)'\n",
      " 'Native American: 2000 (% of total population)'\n",
      " 'U.S.-Born (% of total population)'\n",
      " 'Foreign-Born, Africa, not elsewhere classified (% of all foreign-born)'\n",
      " 'Foreign-Born, Asia, not elsewhere classified (% of all foreign-born)'\n",
      " 'Foreign-Born, Europe, not elsewhere classified (% of all foreign-born)'\n",
      " 'Foreign-Born, Oceania, not elsewhere classified (% of all foreign-born)'\n",
      " 'Speak Language Other than English at Home (%)'\n",
      " 'Nonfamily Households with Children Under 18 (% of all households)'\n",
      " 'Nonfamily Households (% of households)'\n",
      " 'Foreign-Born, Northern Africa (% of all foreign-born)'\n",
      " 'Foreign-Born, North America (% of all foreign-born)'\n",
      " 'Foreign-Born, Northern Europe (% of all foreign-born)'\n",
      " 'Two or More Races or Some Other Race (% of total population)'\n",
      " 'Two or More Races or Some Other Race: 2000 (% of total population)'\n",
      " 'Two or More Races or Some Other Race Population (total #)'\n",
      " 'Prime Age Adults (% of total population ages 25-54)'\n",
      " 'Single Father With Children (% of households)'\n",
      " 'Single Mother With Children (% of households)'\n",
      " 'Elderly Population (% 65+)'\n",
      " 'Foreign-Born, Southern Africa (% of all foreign-born)'\n",
      " 'Foreign-Born, South America (% of all foreign-born)'\n",
      " 'Foreign-Born, South Central Asia (% of all foreign-born)'\n",
      " 'Foreign-Born, South Eastern Asia (% of all foreign-born)'\n",
      " 'Foreign-Born, Southern Europe (% of all foreign-born)'\n",
      " 'Speak Spanish at Home (%)' 'Population (total #)'\n",
      " 'Population: 2000 (total #)' 'Youth Population (% under 18)'\n",
      " 'Population under 5 (%)'\n",
      " 'Foreign-Born, West Africa (% of all foreign-born)'\n",
      " 'Foreign-Born, Western Asia (% of all foreign-born)'\n",
      " 'Foreign-Born, Western Europe (% of all foreign-born)'\n",
      " 'White (% of total population)' 'White: 2000 (% of total population)'\n",
      " 'White Population (total #)' 'Veterans (total #)'\n",
      " 'Veterans (total female)' 'Veterans (total male)' 'Veterans (%)'\n",
      " 'Male Veterans (% of total veteran population)'\n",
      " 'Female Veterans (% of total veteran population)'\n",
      " \"Completed at Least Bachelor's Degree (% of adults 25+)\"\n",
      " \"Completed at Least Bachelor's Degree: 2000 (% of adults 25+)\"\n",
      " 'Completed at Least High School (% of adults 25+)'\n",
      " 'Completed at Least High School: 2006-2010 (% of adults 25+)'\n",
      " \"Completed Bachelor's Degree (% of adults 25+)\"\n",
      " 'Completed High School or High School and Some College (% of adults 25+)'\n",
      " 'Graduate or Professional Degree (% of adults 25+)'\n",
      " 'Did Not Complete High School (% of adults 25+)'\n",
      " 'Did Not Complete High School: 2006-2010 (% of adults 25+)'\n",
      " 'Preschool Enrollment (% of 3- and 4-year olds)'\n",
      " 'School Enrollment (% of population ages 3 to 24 in school)'\n",
      " 'Veterans with Less than  High School Degree (#)'\n",
      " \"Veterans with a bachelor's degree (#)\"\n",
      " 'Veterans with Less than  High School Degree (%)'\n",
      " \"Veterans with a Bachelor's Degree (%)\" 'SNAP Benefits (% households)'\n",
      " 'Adults with Medicaid (%)'\n",
      " 'Child Health Plus or Medicaid (% of children under 18)'\n",
      " 'Employer-Provided Health Insurance (% of total population)'\n",
      " 'Private Health Insurance, Directly Purchased (% of total population)'\n",
      " 'Multiple Health Insurers (% of total population)'\n",
      " 'Public Health Insurance (% of total population)'\n",
      " 'No Health Insurance (% of total population)'\n",
      " 'Extreme Housing Burden (% of renters)'\n",
      " 'High Housing Burden (% of renters)' 'Lack Kitchen (% of housing units)'\n",
      " 'Housing Units Occupied by Owners (%)' 'Rental Vacancies (% of units)'\n",
      " 'Housing Units Occupied by Renters (%)'\n",
      " 'Industry Category: Agriculture, Forestry, Fishing, Hunting & Mining (% of all employed)'\n",
      " 'Industry Category: Arts, Entertainment, Recreation, Accommodation and Food Services (% of all employed)'\n",
      " 'Commute Time (average minutes each way)'\n",
      " 'Commute 60 Minutes Or More One Way (% of workers)'\n",
      " 'Industry Category: Construction (% of all employed)'\n",
      " 'Industry Category: Educational Services, Health Care & Social Assistance (% of all employed)'\n",
      " 'Industry Category: Finance, Insurance, Real Estate, Rental & Leasing (% of all employed)'\n",
      " 'Employed Full-Time (% of workers)'\n",
      " 'Work for Government (% of all employed)'\n",
      " 'Gini Coefficient of Income Inequality'\n",
      " 'Gini Coefficient of Income Inequality: 2006-2010'\n",
      " 'Industry Category: Information (% of all employed)'\n",
      " 'Labor Force Participation Rate (% working or actively looking for work)'\n",
      " 'Occupational Category: Management, Business, Science & Arts (% of all employed)'\n",
      " 'Industry Category: Manufacturing (% of all employed)'\n",
      " 'Median Household Income (2013 $)' 'Median Personal Earnings (2013 $)'\n",
      " 'Median Personal Earnings: 2000 (2013 $)'\n",
      " 'Median Home Value ($ for owner-occupied units)'\n",
      " 'Occupational Category: Natural resources, Construction & Maintenance (% of all employed)'\n",
      " 'Industry Category: Other Service (% of all employed)'\n",
      " 'Employed Part-Time (% of workers)'\n",
      " 'Elderly Poverty (# of adults 65 and older)'\n",
      " 'Elderly Poverty (% of adults 65 and older)'\n",
      " 'Poverty (# of individuals in households with incomes below poverty)'\n",
      " 'Poverty (% in households with incomes below poverty)'\n",
      " 'Poverty: 1999 (% in households with incomes below poverty)'\n",
      " 'Child Poverty (# of children under 18 in households with incomes below poverty)'\n",
      " 'Child Poverty (% of children under 18 in households with incomes below poverty)'\n",
      " 'Private Wage and Salary Workers (% of all employed)'\n",
      " 'Occupational Category: Production, Transportation & Material Moving (% of all employed)'\n",
      " 'Industry Category: Professional, Scientific, Management, Administrative & Waste Management (% of all employed)'\n",
      " 'Industry Category: Public Administration (% of all employed)'\n",
      " 'TANF and General Assistance (% of households in past 12 months)'\n",
      " 'Industry Category: Retail Trade (% of all employed)'\n",
      " 'Occupational Category: Sales & Office (% of all employed)'\n",
      " 'Self-employed (% of all employed)'\n",
      " 'Occupational Category: Service (% of all employed)'\n",
      " 'Industry Category: Transportation, Warehousing & Utilities (% of all employed)'\n",
      " 'Unemployed (% ages 16 and older)'\n",
      " 'Unpaid Family Worker (% of all employed)'\n",
      " 'Industry Category: Wholesale Trade (% of all employed)'\n",
      " 'Employed Workers with Income Below Poverty Level (%)']\n"
     ]
    }
   ],
   "source": [
    "print(Data_2_go.columns.values)"
   ]
  },
  {
   "cell_type": "code",
   "execution_count": 13,
   "metadata": {},
   "outputs": [
    {
     "data": {
      "text/html": [
       "<div>\n",
       "<style>\n",
       "    .dataframe thead tr:only-child th {\n",
       "        text-align: right;\n",
       "    }\n",
       "\n",
       "    .dataframe thead th {\n",
       "        text-align: left;\n",
       "    }\n",
       "\n",
       "    .dataframe tbody tr th {\n",
       "        vertical-align: top;\n",
       "    }\n",
       "</style>\n",
       "<table border=\"1\" class=\"dataframe\">\n",
       "  <thead>\n",
       "    <tr style=\"text-align: right;\">\n",
       "      <th></th>\n",
       "      <th>tract</th>\n",
       "      <th>GEO_LABEL</th>\n",
       "      <th>GEO_DISPLAY_NAME</th>\n",
       "      <th>Adult Stability (% of adults living in same house 1 year ago)</th>\n",
       "      <th>Black (% of total population)</th>\n",
       "      <th>Black Population (#)</th>\n",
       "      <th>Females 15-24 (#)</th>\n",
       "      <th>Females 25-34 (#)</th>\n",
       "      <th>Females 35-44 (#)</th>\n",
       "      <th>Females 45-54 (#)</th>\n",
       "      <th>...</th>\n",
       "      <th>TANF and General Assistance (% of households in past 12 months)</th>\n",
       "      <th>Industry Category: Retail Trade (% of all employed)</th>\n",
       "      <th>Occupational Category: Sales &amp; Office (% of all employed)</th>\n",
       "      <th>Self-employed (% of all employed)</th>\n",
       "      <th>Occupational Category: Service (% of all employed)</th>\n",
       "      <th>Industry Category: Transportation, Warehousing &amp; Utilities (% of all employed)</th>\n",
       "      <th>Unemployed (% ages 16 and older)</th>\n",
       "      <th>Unpaid Family Worker (% of all employed)</th>\n",
       "      <th>Industry Category: Wholesale Trade (% of all employed)</th>\n",
       "      <th>Employed Workers with Income Below Poverty Level (%)</th>\n",
       "    </tr>\n",
       "  </thead>\n",
       "  <tbody>\n",
       "    <tr>\n",
       "      <th>2163</th>\n",
       "      <td>36085031901</td>\n",
       "      <td>Census Tract 319.01, Richmond County, New York</td>\n",
       "      <td>NaN</td>\n",
       "      <td>92.737154</td>\n",
       "      <td>59.773663</td>\n",
       "      <td>1743</td>\n",
       "      <td>315</td>\n",
       "      <td>298</td>\n",
       "      <td>238</td>\n",
       "      <td>288</td>\n",
       "      <td>...</td>\n",
       "      <td>19.981584</td>\n",
       "      <td>12.899106</td>\n",
       "      <td>22.094508</td>\n",
       "      <td>1.404853</td>\n",
       "      <td>38.186462</td>\n",
       "      <td>5.236271</td>\n",
       "      <td>6.675688</td>\n",
       "      <td>0.0</td>\n",
       "      <td>2.937420</td>\n",
       "      <td>8.939974</td>\n",
       "    </tr>\n",
       "    <tr>\n",
       "      <th>2164</th>\n",
       "      <td>36085031902</td>\n",
       "      <td>Census Tract 319.02, Richmond County, New York</td>\n",
       "      <td>NaN</td>\n",
       "      <td>91.934949</td>\n",
       "      <td>63.947078</td>\n",
       "      <td>2900</td>\n",
       "      <td>323</td>\n",
       "      <td>365</td>\n",
       "      <td>337</td>\n",
       "      <td>368</td>\n",
       "      <td>...</td>\n",
       "      <td>20.568252</td>\n",
       "      <td>9.517335</td>\n",
       "      <td>11.624745</td>\n",
       "      <td>2.719239</td>\n",
       "      <td>33.582597</td>\n",
       "      <td>3.331067</td>\n",
       "      <td>4.919073</td>\n",
       "      <td>0.0</td>\n",
       "      <td>1.971448</td>\n",
       "      <td>6.322230</td>\n",
       "    </tr>\n",
       "    <tr>\n",
       "      <th>2165</th>\n",
       "      <td>36085032300</td>\n",
       "      <td>Census Tract 323, Richmond County, New York</td>\n",
       "      <td>NaN</td>\n",
       "      <td>92.800900</td>\n",
       "      <td>22.332731</td>\n",
       "      <td>247</td>\n",
       "      <td>66</td>\n",
       "      <td>129</td>\n",
       "      <td>52</td>\n",
       "      <td>113</td>\n",
       "      <td>...</td>\n",
       "      <td>7.543103</td>\n",
       "      <td>3.550296</td>\n",
       "      <td>38.264300</td>\n",
       "      <td>5.522682</td>\n",
       "      <td>22.485207</td>\n",
       "      <td>6.508876</td>\n",
       "      <td>7.009858</td>\n",
       "      <td>0.0</td>\n",
       "      <td>5.128205</td>\n",
       "      <td>1.577909</td>\n",
       "    </tr>\n",
       "  </tbody>\n",
       "</table>\n",
       "<p>3 rows × 171 columns</p>\n",
       "</div>"
      ],
      "text/plain": [
       "            tract                                       GEO_LABEL  \\\n",
       "2163  36085031901  Census Tract 319.01, Richmond County, New York   \n",
       "2164  36085031902  Census Tract 319.02, Richmond County, New York   \n",
       "2165  36085032300     Census Tract 323, Richmond County, New York   \n",
       "\n",
       "      GEO_DISPLAY_NAME  \\\n",
       "2163               NaN   \n",
       "2164               NaN   \n",
       "2165               NaN   \n",
       "\n",
       "      Adult Stability (% of adults living in same house 1 year ago)  \\\n",
       "2163                                          92.737154               \n",
       "2164                                          91.934949               \n",
       "2165                                          92.800900               \n",
       "\n",
       "      Black (% of total population)  Black Population (#)  Females 15-24 (#)  \\\n",
       "2163                      59.773663                  1743                315   \n",
       "2164                      63.947078                  2900                323   \n",
       "2165                      22.332731                   247                 66   \n",
       "\n",
       "      Females 25-34 (#)  Females 35-44 (#)  Females 45-54 (#)  \\\n",
       "2163                298                238                288   \n",
       "2164                365                337                368   \n",
       "2165                129                 52                113   \n",
       "\n",
       "                              ...                           \\\n",
       "2163                          ...                            \n",
       "2164                          ...                            \n",
       "2165                          ...                            \n",
       "\n",
       "      TANF and General Assistance (% of households in past 12 months)  \\\n",
       "2163                                          19.981584                 \n",
       "2164                                          20.568252                 \n",
       "2165                                           7.543103                 \n",
       "\n",
       "      Industry Category: Retail Trade (% of all employed)  \\\n",
       "2163                                          12.899106     \n",
       "2164                                           9.517335     \n",
       "2165                                           3.550296     \n",
       "\n",
       "      Occupational Category: Sales & Office (% of all employed)  \\\n",
       "2163                                          22.094508           \n",
       "2164                                          11.624745           \n",
       "2165                                          38.264300           \n",
       "\n",
       "      Self-employed (% of all employed)  \\\n",
       "2163                           1.404853   \n",
       "2164                           2.719239   \n",
       "2165                           5.522682   \n",
       "\n",
       "      Occupational Category: Service (% of all employed)  \\\n",
       "2163                                          38.186462    \n",
       "2164                                          33.582597    \n",
       "2165                                          22.485207    \n",
       "\n",
       "      Industry Category: Transportation, Warehousing & Utilities (% of all employed)  \\\n",
       "2163                                           5.236271                                \n",
       "2164                                           3.331067                                \n",
       "2165                                           6.508876                                \n",
       "\n",
       "      Unemployed (% ages 16 and older)  \\\n",
       "2163                          6.675688   \n",
       "2164                          4.919073   \n",
       "2165                          7.009858   \n",
       "\n",
       "      Unpaid Family Worker (% of all employed)  \\\n",
       "2163                                       0.0   \n",
       "2164                                       0.0   \n",
       "2165                                       0.0   \n",
       "\n",
       "      Industry Category: Wholesale Trade (% of all employed)  \\\n",
       "2163                                           2.937420        \n",
       "2164                                           1.971448        \n",
       "2165                                           5.128205        \n",
       "\n",
       "      Employed Workers with Income Below Poverty Level (%)  \n",
       "2163                                           8.939974     \n",
       "2164                                           6.322230     \n",
       "2165                                           1.577909     \n",
       "\n",
       "[3 rows x 171 columns]"
      ]
     },
     "execution_count": 13,
     "metadata": {},
     "output_type": "execute_result"
    }
   ],
   "source": [
    "Data_2_go.tail(3\n",
    "              )"
   ]
  },
  {
   "cell_type": "code",
   "execution_count": 15,
   "metadata": {},
   "outputs": [
    {
     "name": "stdout",
     "output_type": "stream",
     "text": [
      "   zip        tract  res_ratio  bus_ratio  oth_ratio  tot_ratio\n",
      "0  606  72093960100   0.001149   0.007299   0.000000   0.001442\n",
      "1  606  72153750501   0.002681   0.000000   0.000000   0.002524\n",
      "2  606  72093960200   0.996170   0.992701   1.000000   0.996033\n",
      "3  617  72017590300   0.365667   0.298273   0.340206   0.361517\n",
      "4  617  72017590200   0.417010   0.447410   0.412371   0.418739\n",
      "          zip        tract  res_ratio  bus_ratio  oth_ratio  tot_ratio\n",
      "171432  39080  28123020200        0.0        1.0        0.0        1.0\n",
      "171433  52075  19097950400        0.0        0.0        1.0        1.0\n",
      "171434  41061  21023950300        0.0        0.0        1.0        1.0\n",
      "171435  38776  28151000100        1.0        1.0        0.0        1.0\n",
      "171436  15710  42063961400        0.0        1.0        0.0        1.0\n"
     ]
    }
   ],
   "source": [
    "zip_to_tract_csv= \"/Users/tim/Desktop/ds/class_projects/additional_data_excel/ZIP_to_TRACT.csv\"\n",
    "zip_to_tract = pd.read_csv(zip_to_tract_csv)\n",
    "print (zip_to_tract.head())\n",
    "print (zip_to_tract.tail())"
   ]
  },
  {
   "cell_type": "code",
   "execution_count": 16,
   "metadata": {},
   "outputs": [
    {
     "name": "stdout",
     "output_type": "stream",
     "text": [
      "zip            int64\n",
      "tract          int64\n",
      "res_ratio    float64\n",
      "bus_ratio    float64\n",
      "oth_ratio    float64\n",
      "tot_ratio    float64\n",
      "dtype: object\n"
     ]
    }
   ],
   "source": [
    "print(zip_to_tract.dtypes)"
   ]
  },
  {
   "cell_type": "code",
   "execution_count": null,
   "metadata": {
    "collapsed": true
   },
   "outputs": [],
   "source": []
  },
  {
   "cell_type": "code",
   "execution_count": null,
   "metadata": {
    "collapsed": true
   },
   "outputs": [],
   "source": []
  },
  {
   "cell_type": "code",
   "execution_count": 19,
   "metadata": {},
   "outputs": [
    {
     "name": "stdout",
     "output_type": "stream",
     "text": [
      "tract                                                                                                               int64\n",
      "GEO_LABEL                                                                                                          object\n",
      "GEO_DISPLAY_NAME                                                                                                  float64\n",
      "Adult Stability (% of adults living in same house 1 year ago)                                                     float64\n",
      "Black (% of total population)                                                                                     float64\n",
      "Black Population (#)                                                                                                int64\n",
      "Females 15-24 (#)                                                                                                   int64\n",
      "Females 25-34 (#)                                                                                                   int64\n",
      "Females 35-44 (#)                                                                                                   int64\n",
      "Females 45-54 (#)                                                                                                   int64\n",
      "Females 5-14 (#)                                                                                                    int64\n",
      "Females 55-64 (#)                                                                                                   int64\n",
      "Females 65-74 (#)                                                                                                   int64\n",
      "Females 75-84 (#)                                                                                                   int64\n",
      "Females 85+ (#)                                                                                                     int64\n",
      "Females Under 5 (#)                                                                                                 int64\n",
      "Males 15-24 (#)                                                                                                     int64\n",
      "Males 25-34 (#)                                                                                                     int64\n",
      "Males 35-44 (#)                                                                                                     int64\n",
      "Males 45-54 (#)                                                                                                     int64\n",
      "Males 5-14 (#)                                                                                                      int64\n",
      "Males 55-64 (#)                                                                                                     int64\n",
      "Males 65-74 (#)                                                                                                     int64\n",
      "Males 75-84 (#)                                                                                                     int64\n",
      "Males 85+ (#)                                                                                                       int64\n",
      "Males Under 5 (#)                                                                                                   int64\n",
      "Total Population (#)                                                                                                int64\n",
      "Speak Asian or Pacific Island Language at Home (%)                                                                float64\n",
      "Asian or Pacific Islander (% of total population)                                                                 float64\n",
      "Asian or Pacific Islander: 2000 (% of total population)                                                            object\n",
      "                                                                                                                   ...   \n",
      "Occupational Category: Management, Business, Science & Arts (% of all employed)                                   float64\n",
      "Industry Category: Manufacturing (% of all employed)                                                              float64\n",
      "Median Household Income (2013 $)                                                                                  float64\n",
      "Median Personal Earnings (2013 $)                                                                                 float64\n",
      "Median Personal Earnings: 2000 (2013 $)                                                                           float64\n",
      "Median Home Value ($ for owner-occupied units)                                                                    float64\n",
      "Occupational Category: Natural resources, Construction & Maintenance (% of all employed)                          float64\n",
      "Industry Category: Other Service (% of all employed)                                                              float64\n",
      "Employed Part-Time (% of workers)                                                                                 float64\n",
      "Elderly Poverty (# of adults 65 and older)                                                                          int64\n",
      "Elderly Poverty (% of adults 65 and older)                                                                        float64\n",
      "Poverty (# of individuals in households with incomes below poverty)                                                 int64\n",
      "Poverty (% in households with incomes below poverty)                                                              float64\n",
      "Poverty: 1999 (% in households with incomes below poverty)                                                         object\n",
      "Child Poverty (# of children under 18 in households with incomes below poverty)                                     int64\n",
      "Child Poverty (% of children under 18 in households with incomes below poverty)                                   float64\n",
      "Private Wage and Salary Workers (% of all employed)                                                               float64\n",
      "Occupational Category: Production, Transportation & Material Moving (% of all employed)                           float64\n",
      "Industry Category: Professional, Scientific, Management, Administrative & Waste Management (% of all employed)    float64\n",
      "Industry Category: Public Administration (% of all employed)                                                      float64\n",
      "TANF and General Assistance (% of households in past 12 months)                                                   float64\n",
      "Industry Category: Retail Trade (% of all employed)                                                               float64\n",
      "Occupational Category: Sales & Office (% of all employed)                                                         float64\n",
      "Self-employed (% of all employed)                                                                                 float64\n",
      "Occupational Category: Service (% of all employed)                                                                float64\n",
      "Industry Category: Transportation, Warehousing & Utilities (% of all employed)                                    float64\n",
      "Unemployed (% ages 16 and older)                                                                                  float64\n",
      "Unpaid Family Worker (% of all employed)                                                                          float64\n",
      "Industry Category: Wholesale Trade (% of all employed)                                                            float64\n",
      "Employed Workers with Income Below Poverty Level (%)                                                              float64\n",
      "Length: 171, dtype: object\n"
     ]
    }
   ],
   "source": [
    "print(Data_2_go.dtypes)"
   ]
  },
  {
   "cell_type": "code",
   "execution_count": 27,
   "metadata": {},
   "outputs": [
    {
     "ename": "TypeError",
     "evalue": "object of type 'NoneType' has no len()",
     "output_type": "error",
     "traceback": [
      "\u001b[0;31m---------------------------------------------------------------------------\u001b[0m",
      "\u001b[0;31mTypeError\u001b[0m                                 Traceback (most recent call last)",
      "\u001b[0;32m<ipython-input-27-bd3b9b85212b>\u001b[0m in \u001b[0;36m<module>\u001b[0;34m()\u001b[0m\n\u001b[1;32m      1\u001b[0m demo_by_zip= pd.merge(left = Data_2_go, right = zip_to_tract,\n\u001b[1;32m      2\u001b[0m                       \u001b[0mhow\u001b[0m \u001b[0;34m=\u001b[0m \u001b[0;34m'left'\u001b[0m\u001b[0;34m,\u001b[0m\u001b[0;34m\u001b[0m\u001b[0m\n\u001b[0;32m----> 3\u001b[0;31m                       left_on = \"tract\")\n\u001b[0m\u001b[1;32m      4\u001b[0m \u001b[0;34m\u001b[0m\u001b[0m\n\u001b[1;32m      5\u001b[0m \u001b[0mprint\u001b[0m\u001b[0;34m(\u001b[0m\u001b[0mdemo_by_zip\u001b[0m\u001b[0;34m.\u001b[0m\u001b[0mhead\u001b[0m\u001b[0;34m(\u001b[0m\u001b[0;34m)\u001b[0m\u001b[0;34m)\u001b[0m\u001b[0;34m\u001b[0m\u001b[0m\n",
      "\u001b[0;32m/Users/tim/anaconda/lib/python3.5/site-packages/pandas/core/reshape/merge.py\u001b[0m in \u001b[0;36mmerge\u001b[0;34m(left, right, how, on, left_on, right_on, left_index, right_index, sort, suffixes, copy, indicator)\u001b[0m\n\u001b[1;32m     51\u001b[0m                          \u001b[0mright_on\u001b[0m\u001b[0;34m=\u001b[0m\u001b[0mright_on\u001b[0m\u001b[0;34m,\u001b[0m \u001b[0mleft_index\u001b[0m\u001b[0;34m=\u001b[0m\u001b[0mleft_index\u001b[0m\u001b[0;34m,\u001b[0m\u001b[0;34m\u001b[0m\u001b[0m\n\u001b[1;32m     52\u001b[0m                          \u001b[0mright_index\u001b[0m\u001b[0;34m=\u001b[0m\u001b[0mright_index\u001b[0m\u001b[0;34m,\u001b[0m \u001b[0msort\u001b[0m\u001b[0;34m=\u001b[0m\u001b[0msort\u001b[0m\u001b[0;34m,\u001b[0m \u001b[0msuffixes\u001b[0m\u001b[0;34m=\u001b[0m\u001b[0msuffixes\u001b[0m\u001b[0;34m,\u001b[0m\u001b[0;34m\u001b[0m\u001b[0m\n\u001b[0;32m---> 53\u001b[0;31m                          copy=copy, indicator=indicator)\n\u001b[0m\u001b[1;32m     54\u001b[0m     \u001b[0;32mreturn\u001b[0m \u001b[0mop\u001b[0m\u001b[0;34m.\u001b[0m\u001b[0mget_result\u001b[0m\u001b[0;34m(\u001b[0m\u001b[0;34m)\u001b[0m\u001b[0;34m\u001b[0m\u001b[0m\n\u001b[1;32m     55\u001b[0m \u001b[0;34m\u001b[0m\u001b[0m\n",
      "\u001b[0;32m/Users/tim/anaconda/lib/python3.5/site-packages/pandas/core/reshape/merge.py\u001b[0m in \u001b[0;36m__init__\u001b[0;34m(self, left, right, how, on, left_on, right_on, axis, left_index, right_index, sort, suffixes, copy, indicator)\u001b[0m\n\u001b[1;32m    551\u001b[0m             \u001b[0mwarnings\u001b[0m\u001b[0;34m.\u001b[0m\u001b[0mwarn\u001b[0m\u001b[0;34m(\u001b[0m\u001b[0mmsg\u001b[0m\u001b[0;34m,\u001b[0m \u001b[0mUserWarning\u001b[0m\u001b[0;34m)\u001b[0m\u001b[0;34m\u001b[0m\u001b[0m\n\u001b[1;32m    552\u001b[0m \u001b[0;34m\u001b[0m\u001b[0m\n\u001b[0;32m--> 553\u001b[0;31m         \u001b[0mself\u001b[0m\u001b[0;34m.\u001b[0m\u001b[0m_validate_specification\u001b[0m\u001b[0;34m(\u001b[0m\u001b[0;34m)\u001b[0m\u001b[0;34m\u001b[0m\u001b[0m\n\u001b[0m\u001b[1;32m    554\u001b[0m \u001b[0;34m\u001b[0m\u001b[0m\n\u001b[1;32m    555\u001b[0m         \u001b[0;31m# note this function has side effects\u001b[0m\u001b[0;34m\u001b[0m\u001b[0;34m\u001b[0m\u001b[0m\n",
      "\u001b[0;32m/Users/tim/anaconda/lib/python3.5/site-packages/pandas/core/reshape/merge.py\u001b[0m in \u001b[0;36m_validate_specification\u001b[0;34m(self)\u001b[0m\n\u001b[1;32m    950\u001b[0m                                      'of levels in the index of \"left\"')\n\u001b[1;32m    951\u001b[0m                 \u001b[0mself\u001b[0m\u001b[0;34m.\u001b[0m\u001b[0mleft_on\u001b[0m \u001b[0;34m=\u001b[0m \u001b[0;34m[\u001b[0m\u001b[0;32mNone\u001b[0m\u001b[0;34m]\u001b[0m \u001b[0;34m*\u001b[0m \u001b[0mn\u001b[0m\u001b[0;34m\u001b[0m\u001b[0m\n\u001b[0;32m--> 952\u001b[0;31m         \u001b[0;32mif\u001b[0m \u001b[0mlen\u001b[0m\u001b[0;34m(\u001b[0m\u001b[0mself\u001b[0m\u001b[0;34m.\u001b[0m\u001b[0mright_on\u001b[0m\u001b[0;34m)\u001b[0m \u001b[0;34m!=\u001b[0m \u001b[0mlen\u001b[0m\u001b[0;34m(\u001b[0m\u001b[0mself\u001b[0m\u001b[0;34m.\u001b[0m\u001b[0mleft_on\u001b[0m\u001b[0;34m)\u001b[0m\u001b[0;34m:\u001b[0m\u001b[0;34m\u001b[0m\u001b[0m\n\u001b[0m\u001b[1;32m    953\u001b[0m             \u001b[0;32mraise\u001b[0m \u001b[0mValueError\u001b[0m\u001b[0;34m(\u001b[0m\u001b[0;34m\"len(right_on) must equal len(left_on)\"\u001b[0m\u001b[0;34m)\u001b[0m\u001b[0;34m\u001b[0m\u001b[0m\n\u001b[1;32m    954\u001b[0m \u001b[0;34m\u001b[0m\u001b[0m\n",
      "\u001b[0;31mTypeError\u001b[0m: object of type 'NoneType' has no len()"
     ]
    }
   ],
   "source": [
    "demo_by_zip= pd.merge(left = Data_2_go, right = zip_to_tract,\n",
    "                      how = 'left', \n",
    "                      on = \"tract\")\n",
    "\n",
    "print(demo_by_zip.head())\n",
    "print(demo_by_zip.loc[\"zip\"])\n"
   ]
  },
  {
   "cell_type": "code",
   "execution_count": 23,
   "metadata": {},
   "outputs": [
    {
     "name": "stdout",
     "output_type": "stream",
     "text": [
      "(3228, 176)\n"
     ]
    }
   ],
   "source": [
    "print(demo_by_zip.shape)"
   ]
  },
  {
   "cell_type": "code",
   "execution_count": 33,
   "metadata": {},
   "outputs": [
    {
     "name": "stdout",
     "output_type": "stream",
     "text": [
      "2166\n"
     ]
    }
   ],
   "source": [
    "print(len(Data_2_go.groupby(\"tract\").groups))"
   ]
  },
  {
   "cell_type": "code",
   "execution_count": 34,
   "metadata": {},
   "outputs": [
    {
     "name": "stdout",
     "output_type": "stream",
     "text": [
      "15741\n"
     ]
    }
   ],
   "source": [
    "clean_zip = zip_to_tract[zip_to_tract[\"res_ratio\"] >= .5]\n",
    "clean_zip = clean_zip.drop_duplicates(subset= [\"tract\"])\n",
    "print(len(clean_zip.groupby(\"tract\").groups))"
   ]
  },
  {
   "cell_type": "code",
   "execution_count": 35,
   "metadata": {
    "collapsed": true
   },
   "outputs": [],
   "source": [
    "demo_by_zip= pd.merge(left = Data_2_go, right = clean_zip,\n",
    "                      how = 'left', \n",
    "                      on = \"tract\")"
   ]
  },
  {
   "cell_type": "code",
   "execution_count": 37,
   "metadata": {},
   "outputs": [
    {
     "name": "stdout",
     "output_type": "stream",
     "text": [
      "(2166, 176)\n"
     ]
    }
   ],
   "source": [
    "print(demo_by_zip.shape)"
   ]
  },
  {
   "cell_type": "code",
   "execution_count": 38,
   "metadata": {
    "collapsed": true
   },
   "outputs": [],
   "source": [
    "with open(\"demo_by_zip_data.pickle\", \"wb\") as file:\n",
    "    pickle.dump(demo_by_zip, file)\n",
    "    \n"
   ]
  },
  {
   "cell_type": "code",
   "execution_count": 41,
   "metadata": {},
   "outputs": [
    {
     "name": "stdout",
     "output_type": "stream",
     "text": [
      "36\n",
      "{10113.0: Int64Index([1186], dtype='int64'), 11202.0: Int64Index([347], dtype='int64'), 10475.0: Int64Index([334], dtype='int64'), 10116.0: Int64Index([1202], dtype='int64'), 10159.0: Int64Index([1166], dtype='int64'), 10272.0: Int64Index([1115], dtype='int64'), 10185.0: Int64Index([1203], dtype='int64'), 10005.0: Int64Index([1105], dtype='int64'), 10006.0: Int64Index([1111], dtype='int64'), 11352.0: Int64Index([1907], dtype='int64'), 11439.0: Int64Index([2010], dtype='int64'), 10464.0: Int64Index([338], dtype='int64'), 10274.0: Int64Index([1119], dtype='int64'), 11363.0: Int64Index([2040], dtype='int64'), 10276.0: Int64Index([1142], dtype='int64'), 11109.0: Int64Index([1388], dtype='int64'), 11430.0: Int64Index([1860], dtype='int64'), 11431.0: Int64Index([1675], dtype='int64'), 10280.0: Int64Index([1386], dtype='int64'), 10108.0: Int64Index([1216], dtype='int64'), 10282.0: Int64Index([1385], dtype='int64'), 11371.0: Int64Index([1625], dtype='int64'), 10156.0: Int64Index([1170], dtype='int64'), 10474.0: Int64Index([60], dtype='int64'), 11247.0: Int64Index([536], dtype='int64'), 11697.0: Int64Index([1921], dtype='int64'), 10162.0: Int64Index([1232], dtype='int64'), 10163.0: Int64Index([1191], dtype='int64'), 11380.0: Int64Index([1584], dtype='int64'), 10101.0: Int64Index([1233], dtype='int64'), 11243.0: Int64Index([359], dtype='int64'), 10150.0: Int64Index([1206], dtype='int64'), 10313.0: Int64Index([2153], dtype='int64'), 11386.0: Int64Index([1760], dtype='int64'), 10044.0: Int64Index([1346], dtype='int64'), 11005.0: Int64Index([2046], dtype='int64')}\n"
     ]
    }
   ],
   "source": [
    "print(len(demo_by_zip.groupby([\"zip\"]).groups))\n",
    "print (demo_by_zip.groupby([\"zip\"]).groups)\n",
    "\n",
    "# should be 145 zip codes in NYC- but this doesn't seem to match?\n",
    "# County vs. city?  https://www.zip-codes.com/city/ny-new-york.asp?\n",
    "# original HUD data?"
   ]
  },
  {
   "cell_type": "code",
   "execution_count": 55,
   "metadata": {},
   "outputs": [
    {
     "name": "stdout",
     "output_type": "stream",
     "text": [
      "6828.291505310003\n",
      "6828.291505310003\n",
      "6828.291505310003\n",
      "6828.291505310003\n",
      "n/  \n",
      " \n",
      "\n",
      "\n",
      "zip\n",
      "10005.0    0.001050\n",
      "10006.0    0.000544\n",
      "10044.0    0.000374\n",
      "10101.0    0.001467\n",
      "10108.0    0.001262\n",
      "10113.0    0.001497\n",
      "10116.0    0.001770\n",
      "10150.0    0.001053\n",
      "10156.0    0.001513\n",
      "10159.0    0.001778\n",
      "10162.0    0.000787\n",
      "10163.0    0.001074\n",
      "10185.0    0.001519\n",
      "10272.0    0.000750\n",
      "10274.0    0.000502\n",
      "10276.0    0.001069\n",
      "10280.0    0.001307\n",
      "10282.0    0.000891\n",
      "10313.0    0.000389\n",
      "10464.0    0.000851\n",
      "10474.0    0.000513\n",
      "10475.0    0.000277\n",
      "11005.0    0.000000\n",
      "11109.0    0.001092\n",
      "11202.0    0.000560\n",
      "11243.0    0.001091\n",
      "11247.0    0.000462\n",
      "11352.0    0.000428\n",
      "11363.0    0.000645\n",
      "11371.0    0.000327\n",
      "11380.0    0.000683\n",
      "11386.0    0.000296\n",
      "11430.0         NaN\n",
      "11431.0    0.000204\n",
      "11439.0    0.000233\n",
      "11697.0    0.000441\n",
      "Name: Normalized number of information workers, dtype: float64\n",
      "(36,)\n"
     ]
    }
   ],
   "source": [
    "#sum everything in the column-, then divide each cell by the total sum\n",
    "normalize_by = demo_by_zip[\"Industry Category: Information (% of all employed)\"].sum()\n",
    "print (normalize_by)\n",
    "\n",
    "check1 =Data_2_go[\"Industry Category: Information (% of all employed)\"].sum()\n",
    "print (check1)\n",
    "# This is wrong??? - no, checked excel, looks ok\n",
    "print(Data_2_go[\"Industry Category: Information (% of all employed)\"].sum())\n",
    "print(check1)\n",
    "print(\"n/  \\n \\n\\n\")\n",
    "\n",
    "#result of the two above should equal 6828.291505310003:\n",
    "\n",
    "# print(Data_2_go[\"Industry Category: Information (% of all employed)\"])\n",
    "\n",
    "def normalize(x):\n",
    "    result = x/6828.29\n",
    "    return result\n",
    "\n",
    "demo_by_zip[\"Normalized number of information workers\"] = (demo_by_zip[\"Industry Category: Information (% of all employed)\"]\n",
    "   .apply(normalize))\n",
    "\n",
    "# print(demo_by_zip[\"Normalized number of information workers\"])\n",
    "\n",
    "tech_by_zip= ( demo_by_zip.groupby([\"zip\"])\n",
    "              [\"Normalized number of information workers\"].sum() )\n",
    "print(tech_by_zip)\n",
    "print(tech_by_zip.shape)\n",
    "\n",
    "tech_by_zip.to_csv(\"zip_of_weights_for_information_workers.csv\")\n",
    "# = demo_by_zip.groupby([\"zip\"])[].sum())"
   ]
  },
  {
   "cell_type": "code",
   "execution_count": null,
   "metadata": {
    "collapsed": true
   },
   "outputs": [],
   "source": []
  }
 ],
 "metadata": {
  "kernelspec": {
   "display_name": "Python [default]",
   "language": "python",
   "name": "python3"
  },
  "language_info": {
   "codemirror_mode": {
    "name": "ipython",
    "version": 3
   },
   "file_extension": ".py",
   "mimetype": "text/x-python",
   "name": "python",
   "nbconvert_exporter": "python",
   "pygments_lexer": "ipython3",
   "version": "3.5.3"
  }
 },
 "nbformat": 4,
 "nbformat_minor": 2
}
