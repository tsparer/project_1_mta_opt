{
 "cells": [
  {
   "cell_type": "code",
   "execution_count": null,
   "metadata": {
    "collapsed": true
   },
   "outputs": [],
   "source": [
    "# Combined_data_Formatting_and_weighting\n",
    "#  Import the combined data file\n",
    "\n",
    "# Function:  Normalize column (if not percents?)\n",
    "\n",
    "\n",
    "\n",
    "#Normalize information workers\n",
    "#     Currently in % of population in tract employed in the information\n",
    "#     industry- normalize this\n",
    "\n",
    "# Normalize Education\n",
    "\n",
    "#        Normalize the ed column\n",
    "\n",
    "\n",
    "############################################\n",
    "\n",
    "# of female?\n",
    "\n",
    "# Possibly select by income?\n",
    "\n",
    "\n",
    "###########################################\n",
    "# calcuate weighting factor for each station\n",
    "\n",
    "\n",
    "#Apply weighting factor to stations\n",
    "# Multiply Entries/exits, by time"
   ]
  }
 ],
 "metadata": {
  "kernelspec": {
   "display_name": "Python [default]",
   "language": "python",
   "name": "python3"
  },
  "language_info": {
   "codemirror_mode": {
    "name": "ipython",
    "version": 3
   },
   "file_extension": ".py",
   "mimetype": "text/x-python",
   "name": "python",
   "nbconvert_exporter": "python",
   "pygments_lexer": "ipython3",
   "version": "3.5.3"
  }
 },
 "nbformat": 4,
 "nbformat_minor": 2
}
