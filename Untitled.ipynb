{
 "cells": [
  {
   "cell_type": "code",
   "execution_count": null,
   "metadata": {
    "collapsed": true
   },
   "outputs": [],
   "source": [
    "import pandas as pd\n",
    "import numpy as np\n",
    "import pickle \n",
    "\n",
    "\n",
    "demographics_by_tract_csv =\"/Users/tim/Desktop/ds/class_projects/additional_data_excel/Data2go_NYC_tract_only.csv\"\n",
    "zip_to_tract_csv= \"/Users/tim/Desktop/ds/class_projects/additional_data_excel/ZIP_to_TRACT.csv\"\n",
    "\n",
    "\n",
    "Data_2_go = pd.read_csv(demographics_by_tract_csv)\n",
    "Data_2_go.rename(columns = {\"GEO_ID\": \"tract\"}, inplace = True)\n",
    "\n",
    "\n",
    "\n",
    "\n",
    "\n",
    "\n",
    "print(\"ran\")"
   ]
  }
 ],
 "metadata": {
  "kernelspec": {
   "display_name": "Python [default]",
   "language": "python",
   "name": "python3"
  },
  "language_info": {
   "codemirror_mode": {
    "name": "ipython",
    "version": 3
   },
   "file_extension": ".py",
   "mimetype": "text/x-python",
   "name": "python",
   "nbconvert_exporter": "python",
   "pygments_lexer": "ipython3",
   "version": "3.5.3"
  }
 },
 "nbformat": 4,
 "nbformat_minor": 2
}
